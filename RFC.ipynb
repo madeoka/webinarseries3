{
 "cells": [
  {
   "cell_type": "markdown",
   "metadata": {},
   "source": [
    "https://colab.research.google.com/github/csaybar/EEwPython/blob/master/9_SpecializedAlgorithms.ipynb#scrollTo=tnChq4QoIPXE"
   ]
  },
  {
   "cell_type": "code",
   "execution_count": null,
   "metadata": {},
   "outputs": [],
   "source": [
    "import ee\n",
    "import geemap\n",
    "import folium"
   ]
  },
  {
   "cell_type": "code",
   "execution_count": null,
   "metadata": {},
   "outputs": [],
   "source": [
    "# EE_TILES = 'https://earthengine.googleapis.com/map/{mapid}/{{z}}/{{x}}/{{y}}?token={token}'"
   ]
  },
  {
   "cell_type": "code",
   "execution_count": null,
   "metadata": {},
   "outputs": [],
   "source": [
    "ee.Authenticate()"
   ]
  },
  {
   "cell_type": "code",
   "execution_count": null,
   "metadata": {},
   "outputs": [],
   "source": [
    "ee.Initialize()"
   ]
  },
  {
   "cell_type": "code",
   "execution_count": null,
   "metadata": {},
   "outputs": [],
   "source": [
    "#@title Mapdisplay: Display GEE objects using folium.\n",
    "def Mapdisplay(center, dicc, Tiles=\"OpensTreetMap\",zoom_start=10):\n",
    "#     :param center: Center of the map (Latitude and Longitude).\n",
    "#     :param dicc: Earth Engine Geometries or Tiles dictionary\n",
    "#     :param Tiles: Mapbox Bright,Mapbox Control Room,Stamen Terrain,Stamen Toner,stamenwatercolor,cartodbpositron.\n",
    "#     :zoom_start: Initial zoom level for the map.\n",
    "#     :return: A folium.Map object.\n",
    "    mapViz = folium.Map(location=center,tiles=Tiles, zoom_start=zoom_start)\n",
    "    for k,v in dicc.items():\n",
    "        if ee.image.Image in [type(x) for x in v.values()]:\n",
    "                folium.TileLayer(\n",
    "                    tiles = v[\"tile_fetcher\"].url_format,\n",
    "                    attr  = 'Google Earth Engine',overlay =True,\n",
    "                    name  = k\n",
    "                ).add_to(mapViz)\n",
    "        else:\n",
    "            folium.GeoJson(\n",
    "               data = v,\n",
    "               name = k\n",
    "               ).add_to(mapViz)\n",
    "            mapViz.add_child(folium.LayerControl())\n",
    "    return mapViz"
   ]
  },
  {
   "cell_type": "code",
   "execution_count": null,
   "metadata": {},
   "outputs": [],
   "source": [
    "# Define a region of interest as a point.  Change the coordinates\n",
    "# to get a classification of any place where there is imagery.\n",
    "roi = ee.Geometry.Point(-122.3942, 37.7295)"
   ]
  },
  {
   "cell_type": "code",
   "execution_count": null,
   "metadata": {},
   "outputs": [],
   "source": [
    "# Load Landsat 5 input imagery.\n",
    "# 1. Filter to get only one year of images.\n",
    "# 2. Filter to get only images under the region of interest.\n",
    "# 3. Sort by scene cloudiness, ascending.\n",
    "# 4. Get the first (least cloudy) scene.\n",
    "landsat = ee.Image(ee.ImageCollection('LANDSAT/LT05/C01/T1_TOA')\\\n",
    "                     .filterDate('2011-01-01', '2011-12-31')\\\n",
    "                     .filterBounds(roi)\\\n",
    "                     .sort('CLOUD_COVER')\\\n",
    "                     .first()\n",
    "                  )"
   ]
  },
  {
   "cell_type": "code",
   "execution_count": null,
   "metadata": {},
   "outputs": [],
   "source": [
    "# Compute cloud score.\n",
    "cloudScore = ee.Algorithms.Landsat.simpleCloudScore(landsat).select('cloud')"
   ]
  },
  {
   "cell_type": "code",
   "execution_count": null,
   "metadata": {},
   "outputs": [],
   "source": [
    "# Mask the input for clouds.  Compute the min of the input mask to mask\n",
    "# pixels where any band is masked.  Combine that with the cloud mask.\n",
    "Input = landsat.updateMask(landsat.mask().reduce('min').And(cloudScore.lte(50)))"
   ]
  },
  {
   "cell_type": "code",
   "execution_count": null,
   "metadata": {},
   "outputs": [],
   "source": [
    "# Use MODIS land cover, IGBP classification, for training.\n",
    "modis = ee.Image('MODIS/051/MCD12Q1/2011_01_01')\\\n",
    "          .select('Land_Cover_Type_1')"
   ]
  },
  {
   "cell_type": "code",
   "execution_count": null,
   "metadata": {},
   "outputs": [],
   "source": [
    "# Sample the input imagery to get a FeatureCollection of training data.\n",
    "training = Input.addBands(modis).sample(numPixels=5000, seed=0)"
   ]
  },
  {
   "cell_type": "code",
   "execution_count": null,
   "metadata": {},
   "outputs": [],
   "source": [
    "# Make a Random Forest classifier and train it.\n",
    "classifier = ee.Classifier.randomForest(10)\\\n",
    "               .train(training, 'Land_Cover_Type_1')"
   ]
  },
  {
   "cell_type": "code",
   "execution_count": null,
   "metadata": {},
   "outputs": [],
   "source": [
    "# Classify the input imagery.\n",
    "classified = Input.classify(classifier)"
   ]
  },
  {
   "cell_type": "code",
   "execution_count": null,
   "metadata": {},
   "outputs": [],
   "source": [
    "# Get a confusion matrix representing resubstitution accuracy.\n",
    "trainAccuracy = classifier.confusionMatrix()\n",
    "print('Resubstitution error matrix: ', trainAccuracy.getInfo())\n",
    "print('Training overall accuracy: ', trainAccuracy.accuracy().getInfo())"
   ]
  },
  {
   "cell_type": "code",
   "execution_count": null,
   "metadata": {},
   "outputs": [],
   "source": [
    "# Sample the input with a different random seed to get validation data.\n",
    "validation = Input.addBands(modis)\\\n",
    "                  .sample(numPixels=5000,seed=1)\\\n",
    "                  .filter(ee.Filter.neq('B1', None)) # Filter the result to get rid of any null pixels."
   ]
  },
  {
   "cell_type": "code",
   "execution_count": null,
   "metadata": {},
   "outputs": [],
   "source": [
    "# Classify the validation data.\n",
    "validated = validation.classify(classifier)"
   ]
  },
  {
   "cell_type": "code",
   "execution_count": null,
   "metadata": {},
   "outputs": [],
   "source": [
    "# Get a confusion matrix representing expected accuracy.\n",
    "testAccuracy = validated.errorMatrix('Land_Cover_Type_1', 'classification')\n",
    "print('Validation error matrix: ', testAccuracy.getInfo())\n",
    "print('Validation overall accuracy: ', testAccuracy.accuracy().getInfo())"
   ]
  },
  {
   "cell_type": "code",
   "execution_count": null,
   "metadata": {},
   "outputs": [],
   "source": [
    "# Define a palette for the IGBP classification.\n",
    "igbpPalette = ['aec3d4', # water\n",
    "               '152106', '225129', '369b47', '30eb5b', '387242', # forest\n",
    "               '6a2325', 'c3aa69', 'b76031', 'd9903d', '91af40',  # shrub, grass\n",
    "               '111149', # wetlands\n",
    "               'cdb33b', # croplands\n",
    "               'cc0013', # urban\n",
    "               '33280d', # crop mosaic\n",
    "               'd7cdcc', # snow and ice\n",
    "               'f7e084', # barren\n",
    "               '6f6f6f'  # tundra\n",
    "              ]"
   ]
  },
  {
   "cell_type": "code",
   "execution_count": null,
   "metadata": {},
   "outputs": [],
   "source": [
    "# Display the input and the classification.\n",
    "Input_token = Input.getMapId({'bands': ['B3', 'B2', 'B1'],\n",
    "                              'max': 0.4\n",
    "                             })\n",
    "\n",
    "classified_token = classified.getMapId({'palette': igbpPalette,\n",
    "                                        'min': 0, 'max': 17\n",
    "                                       })\n",
    "\n",
    "Mapdisplay([ 37.7295,-122.3942], {'Landsat':Input_token,\n",
    "                                  'LandUse':classified_token},\n",
    "           zoom_start=10\n",
    "          )\n",
    "# Mapdisplay([ 37.7295,-122.3942], {'Landsat':Input_token}, zoom_start=10)"
   ]
  },
  {
   "cell_type": "code",
   "execution_count": null,
   "metadata": {},
   "outputs": [],
   "source": []
  }
 ],
 "metadata": {
  "celltoolbar": "Raw Cell Format",
  "kernelspec": {
   "display_name": "Python 3",
   "language": "python",
   "name": "python3"
  },
  "language_info": {
   "codemirror_mode": {
    "name": "ipython",
    "version": 3
   },
   "file_extension": ".py",
   "mimetype": "text/x-python",
   "name": "python",
   "nbconvert_exporter": "python",
   "pygments_lexer": "ipython3",
   "version": "3.7.6"
  }
 },
 "nbformat": 4,
 "nbformat_minor": 4
}
