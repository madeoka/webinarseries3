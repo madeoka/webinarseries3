{
 "cells": [
  {
   "cell_type": "code",
   "execution_count": null,
   "metadata": {},
   "outputs": [],
   "source": [
    "import ee \n",
    "import geemap"
   ]
  },
  {
   "cell_type": "code",
   "execution_count": null,
   "metadata": {},
   "outputs": [],
   "source": [
    "Map=geemap.Map()"
   ]
  },
  {
   "cell_type": "code",
   "execution_count": null,
   "metadata": {},
   "outputs": [],
   "source": [
    "# Input imagery is a cloud-free Landsat 8 composite.\n",
    "l8 = ee.ImageCollection('LANDSAT/LC08/C01/T1')"
   ]
  },
  {
   "cell_type": "code",
   "execution_count": null,
   "metadata": {},
   "outputs": [],
   "source": [
    "image = ee.Algorithms.Landsat.simpleComposite(**{'collection': l8.filterDate('2018-01-01', '2018-12-31'),\n",
    "                                                 'asFloat': True\n",
    "                                                })"
   ]
  },
  {
   "cell_type": "code",
   "execution_count": null,
   "metadata": {},
   "outputs": [],
   "source": [
    "# Use these bands for prediction.\n",
    "bands = ['B2', 'B3', 'B4', 'B5', 'B6', 'B7', 'B10', 'B11']"
   ]
  },
  {
   "cell_type": "code",
   "execution_count": null,
   "metadata": {},
   "outputs": [],
   "source": [
    "# Manually created polygons.\n",
    "forest1 = ee.Geometry.Rectangle(-63.0187, -9.3958, -62.9793, -9.3443)\n",
    "forest2 = ee.Geometry.Rectangle(-62.8145, -9.206, -62.7688, -9.1735)\n",
    "nonForest1 = ee.Geometry.Rectangle(-62.8161, -9.5001, -62.7921, -9.4486)\n",
    "nonForest2 = ee.Geometry.Rectangle(-62.6788, -9.044, -62.6459, -8.9986)"
   ]
  },
  {
   "cell_type": "code",
   "execution_count": null,
   "metadata": {},
   "outputs": [],
   "source": [
    "# Make a FeatureCollection from the hand-made geometries.\n",
    "polygons = ee.FeatureCollection([ee.Feature(nonForest1, {'class': 0}),\n",
    "                                 ee.Feature(nonForest2, {'class': 0}),\n",
    "                                 ee.Feature(forest1, {'class': 1}),\n",
    "                                 ee.Feature(forest2, {'class': 1}),\n",
    "                                ])"
   ]
  },
  {
   "cell_type": "code",
   "execution_count": null,
   "metadata": {},
   "outputs": [],
   "source": [
    "# Get the values for all pixels in each polygon in the training.\n",
    "# Get the sample from the polygons FeatureCollection.\n",
    "# Keep this list of properties from the polygons.\n",
    "# Set the scale to get Landsat pixels in the polygons.\n",
    "training = image.sampleRegions(**{'collection': polygons,\n",
    "                                  'properties': ['class'],\n",
    "                                  'scale': 30\n",
    "                                 })"
   ]
  },
  {
   "cell_type": "code",
   "execution_count": null,
   "metadata": {},
   "outputs": [],
   "source": [
    "# Create an SVM classifier with custom parameters.\n",
    "classifier = ee.Classifier.svm(**{'kernelType': 'RBF',\n",
    "                                  'gamma': 0.5,\n",
    "                                  'cost': 10\n",
    "                                 })"
   ]
  },
  {
   "cell_type": "code",
   "execution_count": null,
   "metadata": {},
   "outputs": [],
   "source": [
    "# Train the classifier.\n",
    "trained = classifier.train(training,\n",
    "                           'class',\n",
    "                           bands)"
   ]
  },
  {
   "cell_type": "code",
   "execution_count": null,
   "metadata": {},
   "outputs": [],
   "source": [
    "# Classify the image.\n",
    "classified = image.classify(trained)"
   ]
  },
  {
   "cell_type": "code",
   "execution_count": null,
   "metadata": {},
   "outputs": [],
   "source": [
    "# Display the classification result and the input image.\n",
    "Map.setCenter(-63.0187, -9.3958, 12)\n",
    "Map.addLayer(image, {'bands': ['B4', 'B3', 'B2'], 'max': 0.5, 'gamma': 2})\n",
    "Map.addLayer(polygons, {}, 'training polygons')\n",
    "Map.addLayer(classified,{'min': 0,\n",
    "                         'max': 1, \n",
    "                         'palette': ['red', 'green']\n",
    "                        },\n",
    "             'deforestation'\n",
    "            )\n",
    "Map"
   ]
  },
  {
   "cell_type": "code",
   "execution_count": null,
   "metadata": {},
   "outputs": [],
   "source": []
  }
 ],
 "metadata": {
  "kernelspec": {
   "display_name": "Python 3",
   "language": "python",
   "name": "python3"
  },
  "language_info": {
   "codemirror_mode": {
    "name": "ipython",
    "version": 3
   },
   "file_extension": ".py",
   "mimetype": "text/x-python",
   "name": "python",
   "nbconvert_exporter": "python",
   "pygments_lexer": "ipython3",
   "version": "3.7.6"
  }
 },
 "nbformat": 4,
 "nbformat_minor": 4
}
